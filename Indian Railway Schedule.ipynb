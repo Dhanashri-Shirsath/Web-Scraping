{
 "cells": [
  {
   "cell_type": "markdown",
   "metadata": {},
   "source": [
    "# Import libraries"
   ]
  },
  {
   "cell_type": "code",
   "execution_count": 3,
   "metadata": {},
   "outputs": [],
   "source": [
    "import requests"
   ]
  },
  {
   "cell_type": "code",
   "execution_count": 4,
   "metadata": {},
   "outputs": [],
   "source": [
    "from bs4 import BeautifulSoup"
   ]
  },
  {
   "cell_type": "code",
   "execution_count": 5,
   "metadata": {},
   "outputs": [],
   "source": [
    "#url=\"https://www.railyatri.in/time-table\"\n",
    "url=\"https://www.railyatri.in/time-table\""
   ]
  },
  {
   "cell_type": "code",
   "execution_count": 6,
   "metadata": {},
   "outputs": [],
   "source": [
    "r=requests.get(url)"
   ]
  },
  {
   "cell_type": "markdown",
   "metadata": {},
   "source": [
    "# Scraping data"
   ]
  },
  {
   "cell_type": "code",
   "execution_count": 7,
   "metadata": {},
   "outputs": [],
   "source": [
    "soup=BeautifulSoup(r.content,'html5lib')"
   ]
  },
  {
   "cell_type": "code",
   "execution_count": 8,
   "metadata": {},
   "outputs": [],
   "source": [
    "#uncomment to see output\n",
    "#print(soup.prettify())"
   ]
  },
  {
   "cell_type": "code",
   "execution_count": 9,
   "metadata": {},
   "outputs": [],
   "source": [
    "table=soup.find('tbody')"
   ]
  },
  {
   "cell_type": "code",
   "execution_count": 10,
   "metadata": {},
   "outputs": [],
   "source": [
    "#uncomment to see output\n",
    "#print(table)"
   ]
  },
  {
   "cell_type": "code",
   "execution_count": 11,
   "metadata": {},
   "outputs": [],
   "source": [
    "#adding scraped data to dictionary and creating list of dictionary\n",
    "lst=[]\n",
    "\n",
    "for tr in table.find_all('tr'):\n",
    "    tds = tr.find_all('td')\n",
    "    d={}\n",
    "    d['train_number']=tds[0].text\n",
    "    d['train_name']=tds[1].text\n",
    "    d['type']=tds[2].text\n",
    "    d['run_days']=tds[3].text\n",
    "    d['departure']=tds[4].text\n",
    "    d['arrival']=tds[5].text\n",
    "    lst.append(d)\n"
   ]
  },
  {
   "cell_type": "code",
   "execution_count": 12,
   "metadata": {},
   "outputs": [
    {
     "name": "stdout",
     "output_type": "stream",
     "text": [
      "[{'train_number': '12267', 'train_name': 'MUMBAI CENTRAL - AHMEDABAD AC Duronto Exp', 'type': 'Duronto', 'run_days': 'M,T,W,T,F,S,S', 'departure': ' 23:25', 'arrival': '05:55'}, {'train_number': '12268', 'train_name': 'AHMEDABAD - MUMBAI CENT AC Duronto Exp', 'type': 'Duronto', 'run_days': 'M,T,W,T,F,S,S', 'departure': ' 23:40', 'arrival': '06:00'}, {'train_number': '22201', 'train_name': 'KOLKATA SEALDAH - PURI Duronto Express', 'type': 'Duronto', 'run_days': 'M,W,F', 'departure': ' 20:00', 'arrival': '04:00'}, {'train_number': '22204', 'train_name': 'SECUNDERABAD - VISAKHAPATNAM AC Duronto Express', 'type': 'Duronto', 'run_days': 'M,W,S', 'departure': ' 20:15', 'arrival': '06:35'}, {'train_number': '22206', 'train_name': 'MADURAI - CHENNAI CENTRAL AC Duronto Express', 'type': 'Duronto', 'run_days': 'TUE,THU', 'departure': ' 22:40', 'arrival': '07:20'}, {'train_number': '12426', 'train_name': 'JAMMU TAWI - NEW DELHI Rajdhani Express', 'type': 'Rajdhani', 'run_days': 'M,T,W,T,F,S,S', 'departure': ' 19:40', 'arrival': '05:05'}, {'train_number': '12430', 'train_name': 'NEW DELHI - LUCKNOW AC SF Express', 'type': 'Rajdhani', 'run_days': 'M,T,F,S', 'departure': ' 20:50', 'arrival': '06:40'}, {'train_number': '12437', 'train_name': 'SECUNDERABAD - HAZRAT NIZAMUDDIN Rajdhani Express', 'type': 'Rajdhani', 'run_days': 'WED', 'departure': ' 12:45', 'arrival': '10:25'}, {'train_number': '12951', 'train_name': 'MUMBAI CENTRAL - NEW DELHI Rajdhani Express', 'type': 'Rajdhani', 'run_days': 'M,T,W,T,F,S,S', 'departure': ' 16:35', 'arrival': '08:35'}, {'train_number': '12953', 'train_name': 'MUMBAI CENT - HAZRAT NIZAMUDDIN August Kranti Raj Exp', 'type': 'Rajdhani', 'run_days': 'M,T,W,T,F,S,S', 'departure': ' 17:40', 'arrival': '10:55'}, {'train_number': '12019', 'train_name': 'HOWRAH - RANCHI Shatabdi Express', 'type': 'Shatabdi', 'run_days': 'M,T,W,T,F,S', 'departure': ' 06:05', 'arrival': '13:15'}, {'train_number': '12038', 'train_name': 'LUDHIANA - NEW DELHI Shatabdi Express', 'type': 'Shatabdi', 'run_days': 'T,W,T,F,S', 'departure': ' 16:40', 'arrival': '22:10'}, {'train_number': '12048', 'train_name': 'FIROZPUR - NEW DELHI Shatabdi Express', 'type': 'Shatabdi', 'run_days': 'M,S', 'departure': ' 04:00', 'arrival': '21:10'}, {'train_number': '12049', 'train_name': 'Agra Cantt - Delhi H Nizamuddin Gatimaan Express', 'type': 'Shatabdi', 'run_days': 'M,T,W,T,S,S', 'departure': ' 17:50', 'arrival': '19:30'}, {'train_number': '12050', 'train_name': 'Delhi H Nizamuddin - Agra Cantt Gatimaan Express', 'type': 'Shatabdi', 'run_days': 'M,T,W,T,S,S', 'departure': ' 08:10', 'arrival': '09:50'}, {'train_number': '11077', 'train_name': 'PUNE - JAMMU TAWI Jhelum Express', 'type': 'MAIL EXPRESS', 'run_days': 'M,T,W,T,F,S,S', 'departure': ' 17:20', 'arrival': '10:10'}, {'train_number': '12138', 'train_name': 'FIROZPUR CANTT - MUMBAI CST Punjab Mail SF Exp', 'type': 'SUPERFAST', 'run_days': 'M,T,W,T,F,S,S', 'departure': ' 21:40', 'arrival': '07:35'}, {'train_number': '12295', 'train_name': 'BANGALORE CITY - DANAPUR Sanghamitra SF Exp', 'type': 'SUPERFAST', 'run_days': 'M,T,W,T,F,S,S', 'departure': ' 09:00', 'arrival': '09:20'}, {'train_number': '12307', 'train_name': 'HOWRAH - JODHPUR SF Express', 'type': 'SUPERFAST', 'run_days': 'M,T,W,T,F,S,S', 'departure': ' 23:30', 'arrival': '08:30'}, {'train_number': '12424', 'train_name': 'NEW DELHI - DIBRUGARH TOWN Rajdhani Express', 'type': 'RAJDHANI', 'run_days': 'M,T,W,T,F,S,S', 'departure': ' 13:55', 'arrival': '07:00'}, {'train_number': '12506', 'train_name': 'DELHI ANAND VIHAR - GUWAHATI North East Express', 'type': 'SUPERFAST', 'run_days': 'M,T,W,T,F,S,S', 'departure': ' 06:45', 'arrival': '16:50'}, {'train_number': '12801', 'train_name': 'PURI - NEW DELHI Purushottam SF Express', 'type': 'SUPERFAST', 'run_days': 'M,T,W,T,F,S,S', 'departure': ' 21:45', 'arrival': '04:50'}, {'train_number': '12802', 'train_name': 'NEW DELHI - PURI Purushottam SF Express', 'type': 'SUPERFAST', 'run_days': 'M,T,W,T,F,S,S', 'departure': ' 22:15', 'arrival': '05:25'}, {'train_number': '12833', 'train_name': 'AHMEDABAD - HOWRAH SF Express', 'type': 'SUPERFAST', 'run_days': 'M,T,W,T,F,S,S', 'departure': ' 00:15', 'arrival': '13:30'}, {'train_number': '12859', 'train_name': 'MUMBAI CST - HOWRAH Gitanjali SF Express', 'type': 'SUPERFAST', 'run_days': 'M,T,W,T,F,S,S', 'departure': ' 06:00', 'arrival': '12:30'}, {'train_number': '12864', 'train_name': 'YESVANTPUR - HOWRAH SF Express', 'type': 'SUPERFAST', 'run_days': 'M,T,W,T,F,S,S', 'departure': ' 19:35', 'arrival': '06:25'}]\n"
     ]
    }
   ],
   "source": [
    "print(lst)"
   ]
  },
  {
   "cell_type": "code",
   "execution_count": 13,
   "metadata": {},
   "outputs": [],
   "source": [
    "#preparing csv file\n",
    "import csv\n",
    "\n",
    "filename='Indian_Railway_Schedule.csv'\n",
    "with open(filename,'w',newline='') as f:\n",
    "    w=csv.DictWriter(f,['train_number','train_name','type','run_days','departure','arrival'])\n",
    "    w.writeheader()\n",
    "    \n",
    "    for l in lst:\n",
    "        w.writerow(l)"
   ]
  },
  {
   "cell_type": "code",
   "execution_count": null,
   "metadata": {},
   "outputs": [],
   "source": []
  }
 ],
 "metadata": {
  "kernelspec": {
   "display_name": "Python 3",
   "language": "python",
   "name": "python3"
  },
  "language_info": {
   "codemirror_mode": {
    "name": "ipython",
    "version": 3
   },
   "file_extension": ".py",
   "mimetype": "text/x-python",
   "name": "python",
   "nbconvert_exporter": "python",
   "pygments_lexer": "ipython3",
   "version": "3.9.0"
  }
 },
 "nbformat": 4,
 "nbformat_minor": 4
}
