{
 "cells": [
  {
   "cell_type": "markdown",
   "metadata": {},
   "source": [
    "# Importing necessary libraries"
   ]
  },
  {
   "cell_type": "code",
   "execution_count": 1,
   "metadata": {},
   "outputs": [],
   "source": [
    "import requests"
   ]
  },
  {
   "cell_type": "code",
   "execution_count": 2,
   "metadata": {},
   "outputs": [],
   "source": [
    "from bs4 import BeautifulSoup"
   ]
  },
  {
   "cell_type": "code",
   "execution_count": 3,
   "metadata": {},
   "outputs": [],
   "source": [
    "#url-https://zoom.earth/storms/tauktae-2021/\n",
    "r=requests.get('https://zoom.earth/storms/tauktae-2021/')"
   ]
  },
  {
   "cell_type": "markdown",
   "metadata": {},
   "source": [
    "# Scraping the data"
   ]
  },
  {
   "cell_type": "code",
   "execution_count": 4,
   "metadata": {},
   "outputs": [],
   "source": [
    "soup=BeautifulSoup(r.content,'html5lib')"
   ]
  },
  {
   "cell_type": "code",
   "execution_count": 5,
   "metadata": {},
   "outputs": [],
   "source": [
    "#uncomment to see output\n",
    "#print(soup.prettify()) "
   ]
  },
  {
   "cell_type": "code",
   "execution_count": 6,
   "metadata": {},
   "outputs": [],
   "source": [
    "#uncomment to see output\n",
    "table=[]\n",
    "table=soup.find('tbody')\n",
    "#print(table)"
   ]
  },
  {
   "cell_type": "code",
   "execution_count": 7,
   "metadata": {},
   "outputs": [],
   "source": [
    "#scraped the data and stored in dictionary \n",
    "lst=[]\n",
    "for i in table.findAll('tr'):\n",
    "    dct={}\n",
    "    row=i.findAll('td')\n",
    "    dct['Date']=row[0].text\n",
    "    dct['Time']=row[1].text\n",
    "    typ=row[2].text\n",
    "    if typ=='L':\n",
    "        dct['Type']='Low Pressure Area'\n",
    "    elif typ=='EC':\n",
    "        dct['Type']='Extremely Severe Cyclonic Storm'\n",
    "    elif typ=='VC':\n",
    "        dct['Type']='Very Severe Cyclonic Storm'\n",
    "    elif typ=='SC':\n",
    "        dct['Type']='Severe Cyclonic Storm'\n",
    "    elif typ=='C':\n",
    "        dct['Type']='Cyclonic Storm'\n",
    "    elif typ=='D':\n",
    "        dct['Type']='Depression'\n",
    "    else:\n",
    "        dct['Type']='Disturbance'\n",
    "    dct['Wind']=row[3].text\n",
    "    dct['Pressure']=row[4].text\n",
    "    lst.append(dct)"
   ]
  },
  {
   "cell_type": "code",
   "execution_count": 8,
   "metadata": {},
   "outputs": [
    {
     "name": "stdout",
     "output_type": "stream",
     "text": [
      "[{'Date': 'May 19', 'Time': '06:00', 'Type': 'Low Pressure Area', 'Wind': '55', 'Pressure': ''}, {'Date': 'May 18', 'Time': '18:00', 'Type': 'Low Pressure Area', 'Wind': '95', 'Pressure': ''}, {'Date': 'May 18', 'Time': '06:00', 'Type': 'Low Pressure Area', 'Wind': '150', 'Pressure': ''}, {'Date': 'May 17', 'Time': '18:00', 'Type': 'Extremely Severe Cyclonic Storm', 'Wind': '205', 'Pressure': '942'}, {'Date': 'May 17', 'Time': '12:00', 'Type': 'Extremely Severe Cyclonic Storm', 'Wind': '205', 'Pressure': '949'}, {'Date': 'May 17', 'Time': '06:00', 'Type': 'Extremely Severe Cyclonic Storm', 'Wind': '215', 'Pressure': '939'}, {'Date': 'May 17', 'Time': '00:00', 'Type': 'Extremely Severe Cyclonic Storm', 'Wind': '220', 'Pressure': '935'}, {'Date': 'May 16', 'Time': '18:00', 'Type': 'Extremely Severe Cyclonic Storm', 'Wind': '205', 'Pressure': '941'}, {'Date': 'May 16', 'Time': '12:00', 'Type': 'Extremely Severe Cyclonic Storm', 'Wind': '185', 'Pressure': '952'}, {'Date': 'May 16', 'Time': '06:00', 'Type': 'Very Severe Cyclonic Storm', 'Wind': '165', 'Pressure': '962'}, {'Date': 'May 16', 'Time': '00:00', 'Type': 'Very Severe Cyclonic Storm', 'Wind': '140', 'Pressure': '972'}, {'Date': 'May 15', 'Time': '18:00', 'Type': 'Severe Cyclonic Storm', 'Wind': '120', 'Pressure': '976'}, {'Date': 'May 15', 'Time': '12:00', 'Type': 'Severe Cyclonic Storm', 'Wind': '110', 'Pressure': '979'}, {'Date': 'May 15', 'Time': '06:00', 'Type': 'Severe Cyclonic Storm', 'Wind': '100', 'Pressure': '986'}, {'Date': 'May 15', 'Time': '00:00', 'Type': 'Cyclonic Storm', 'Wind': '95', 'Pressure': '989'}, {'Date': 'May 14', 'Time': '18:00', 'Type': 'Cyclonic Storm', 'Wind': '85', 'Pressure': '989'}, {'Date': 'May 14', 'Time': '12:00', 'Type': 'Cyclonic Storm', 'Wind': '75', 'Pressure': '996'}, {'Date': 'May 14', 'Time': '06:00', 'Type': 'Cyclonic Storm', 'Wind': '75', 'Pressure': '998'}, {'Date': 'May 14', 'Time': '00:00', 'Type': 'Depression', 'Wind': '55', 'Pressure': '997'}, {'Date': 'May 13', 'Time': '18:00', 'Type': 'Depression', 'Wind': '55', 'Pressure': '1000'}, {'Date': 'May 13', 'Time': '12:00', 'Type': 'Depression', 'Wind': '55', 'Pressure': '1000'}, {'Date': 'May 13', 'Time': '06:00', 'Type': 'Depression', 'Wind': '45', 'Pressure': '1002'}, {'Date': 'May 13', 'Time': '00:00', 'Type': 'Disturbance', 'Wind': '35', 'Pressure': '1004'}, {'Date': 'May 12', 'Time': '18:00', 'Type': 'Disturbance', 'Wind': '35', 'Pressure': '1005'}, {'Date': 'May 12', 'Time': '12:00', 'Type': 'Depression', 'Wind': '45', 'Pressure': '1004'}]\n"
     ]
    }
   ],
   "source": [
    "print(lst)"
   ]
  },
  {
   "cell_type": "code",
   "execution_count": 9,
   "metadata": {},
   "outputs": [],
   "source": [
    "#creating csv file\n",
    "\n",
    "import csv\n",
    "\n",
    "filename='Tauktae_cyclone_storm.csv'\n",
    "with open(filename,'w',newline='') as f:\n",
    "    w=csv.DictWriter(f,['Date','Time','Type','Wind','Pressure'])\n",
    "    w.writeheader()\n",
    "    \n",
    "    for l in lst:\n",
    "        w.writerow(l)"
   ]
  },
  {
   "cell_type": "code",
   "execution_count": null,
   "metadata": {},
   "outputs": [],
   "source": []
  }
 ],
 "metadata": {
  "kernelspec": {
   "display_name": "Python 3",
   "language": "python",
   "name": "python3"
  },
  "language_info": {
   "codemirror_mode": {
    "name": "ipython",
    "version": 3
   },
   "file_extension": ".py",
   "mimetype": "text/x-python",
   "name": "python",
   "nbconvert_exporter": "python",
   "pygments_lexer": "ipython3",
   "version": "3.9.0"
  }
 },
 "nbformat": 4,
 "nbformat_minor": 4
}
